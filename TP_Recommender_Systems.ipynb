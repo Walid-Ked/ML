{
 "cells": [
  {
   "cell_type": "code",
   "execution_count": null,
   "metadata": {
    "collapsed": false
   },
   "outputs": [],
   "source": [
    "import graphlab as gl\n",
    "data = gl.SFrame.read_csv(\"C:/Users/W  7/Desktop/Master 2/AA2/TP5_Recommender_Systems/data\" , header=False , delimiter=\"\\t\")\n",
    "data.rename({'X1': 'user_id', 'X2':'movie_id','X3':'rating' , 'X4':'timestamp'})\n",
    "data.head(3)\n",
    "#train['rating'].unique()\n",
    "#data.show()"
   ]
  },
  {
   "cell_type": "code",
   "execution_count": null,
   "metadata": {
    "collapsed": false
   },
   "outputs": [],
   "source": [
    "movies_data = gl.SFrame.read_csv(\"C:/Users/W  7/Desktop/Master 2/AA2/TP5_Recommender_Systems/item\" , header=True , delimiter=\"|\")\n",
    "movies_data['video release date'] = '1'\n",
    "movies_data.show()"
   ]
  },
  {
   "cell_type": "code",
   "execution_count": null,
   "metadata": {
    "collapsed": false
   },
   "outputs": [],
   "source": [
    "joined = data.join(movies_data, on={'movie_id':'movie id'})\n",
    "joined.show()"
   ]
  },
  {
   "cell_type": "code",
   "execution_count": null,
   "metadata": {
    "collapsed": true
   },
   "outputs": [],
   "source": [
    "train,test = joined.random_split(0.9, seed=0)"
   ]
  },
  {
   "cell_type": "markdown",
   "metadata": {},
   "source": [
    "# Popularité\n",
    "\n",
    "Ce type de recommendation ne contient aucune personalisation \n"
   ]
  },
  {
   "cell_type": "code",
   "execution_count": null,
   "metadata": {
    "collapsed": false
   },
   "outputs": [],
   "source": [
    "popularity_model = gl.popularity_recommender.create(train, user_id='user_id', item_id='movie title', target='rating')"
   ]
  },
  {
   "cell_type": "code",
   "execution_count": null,
   "metadata": {
    "collapsed": false
   },
   "outputs": [],
   "source": [
    "popularity_recomm = popularity_model.recommend(users=range(1,3),k=3)\n",
    "popularity_recomm.print_rows(num_rows=6)"
   ]
  },
  {
   "cell_type": "markdown",
   "metadata": {},
   "source": [
    "# Item_Item\n"
   ]
  },
  {
   "cell_type": "code",
   "execution_count": null,
   "metadata": {
    "collapsed": false
   },
   "outputs": [],
   "source": [
    "item_model = gl.item_similarity_recommender.create(train, user_id='user_id', item_id='movie title' , target='rating')"
   ]
  },
  {
   "cell_type": "code",
   "execution_count": null,
   "metadata": {
    "collapsed": false
   },
   "outputs": [],
   "source": [
    "item_recomm = item_model.recommend(users=range(1,4),k=3)\n",
    "item_recomm.print_rows()"
   ]
  },
  {
   "cell_type": "markdown",
   "metadata": {},
   "source": [
    "# Par le Contenu \n"
   ]
  },
  {
   "cell_type": "code",
   "execution_count": null,
   "metadata": {
    "collapsed": false
   },
   "outputs": [],
   "source": [
    "content_model = gl.item_content_recommender.create(movies_data , 'movie title')"
   ]
  },
  {
   "cell_type": "code",
   "execution_count": null,
   "metadata": {
    "collapsed": false
   },
   "outputs": [],
   "source": [
    "#content_recomm = content_model.recommend(users=range(1,4),k=3)\n",
    "content_recomm = content_model.get_similar_items(k=3)\n",
    "content_recomm.print_rows(15)"
   ]
  },
  {
   "cell_type": "markdown",
   "metadata": {},
   "source": [
    "# Factorisation \n"
   ]
  },
  {
   "cell_type": "code",
   "execution_count": null,
   "metadata": {
    "collapsed": false
   },
   "outputs": [],
   "source": [
    "fact_model = gl.factorization_recommender.create(train, user_id='user_id', item_id='movie title' , target='rating')"
   ]
  },
  {
   "cell_type": "code",
   "execution_count": null,
   "metadata": {
    "collapsed": false
   },
   "outputs": [],
   "source": [
    "fact_recomm = fact_model.recommend(users=range(1,4),k=3)\n",
    "fact_recomm.print_rows()"
   ]
  },
  {
   "cell_type": "markdown",
   "metadata": {},
   "source": [
    "# Comparison\n"
   ]
  },
  {
   "cell_type": "code",
   "execution_count": null,
   "metadata": {
    "collapsed": false
   },
   "outputs": [],
   "source": [
    "model_performance = gl.compare(test,[item_model,fact_model,popularity_model])\n",
    "#eval = fact_model.evaluate(test)\n",
    "gl.show_comparison(model_performance,[fact_model,item_model,popularity_model])"
   ]
  }
 ],
 "metadata": {
  "kernelspec": {
   "display_name": "Python 2",
   "language": "python",
   "name": "python2"
  },
  "language_info": {
   "codemirror_mode": {
    "name": "ipython",
    "version": 2
   },
   "file_extension": ".py",
   "mimetype": "text/x-python",
   "name": "python",
   "nbconvert_exporter": "python",
   "pygments_lexer": "ipython2",
   "version": "2.7.12"
  }
 },
 "nbformat": 4,
 "nbformat_minor": 0
}
